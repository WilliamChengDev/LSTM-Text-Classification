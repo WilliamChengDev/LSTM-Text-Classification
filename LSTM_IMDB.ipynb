{
 "cells": [
  {
   "cell_type": "code",
   "execution_count": 15,
   "id": "15f51930",
   "metadata": {},
   "outputs": [
    {
     "name": "stdout",
     "output_type": "stream",
     "text": [
      "downloading database...\n",
      "download complete\n",
      "extracting database...\n"
     ]
    },
    {
     "name": "stderr",
     "output_type": "stream",
     "text": [
      "C:\\Users\\willi\\AppData\\Local\\Temp\\ipykernel_28208\\2850731199.py:17: DeprecationWarning: Python 3.14 will, by default, filter extracted tar archives and reject files or modify their metadata. Use the filter argument to control this behavior.\n",
      "  tar.extractall(path=\"data\")\n"
     ]
    },
    {
     "name": "stdout",
     "output_type": "stream",
     "text": [
      "database extracted\n"
     ]
    }
   ],
   "source": [
    "import os\n",
    "import urllib.request\n",
    "import tarfile\n",
    "\n",
    "os.makedirs(\"data\", exist_ok=True)\n",
    "\n",
    "if not os.path.exists(\"data/aclImdb_v1.tar.gz\"):\n",
    "        #download database\n",
    "        print(\"downloading database...\")\n",
    "        urllib.request.urlretrieve(\"http://ai.stanford.edu/~amaas/data/sentiment/aclImdb_v1.tar.gz\", \"data/aclImdb_v1.tar.gz\")\n",
    "        print(\"download complete\")\n",
    "\n",
    "if not os.path.exists(\"data/aclImdb/\"):\n",
    "        #extract database\n",
    "        print(\"extracting database...\")\n",
    "        with tarfile.open(\"data/aclImdb_v1.tar.gz\", \"r:gz\") as tar:\n",
    "                tar.extractall(path=\"data\")\n",
    "        print(\"database extracted\")\n"
   ]
  }
 ],
 "metadata": {
  "kernelspec": {
   "display_name": "Python 3",
   "language": "python",
   "name": "python3"
  },
  "language_info": {
   "codemirror_mode": {
    "name": "ipython",
    "version": 3
   },
   "file_extension": ".py",
   "mimetype": "text/x-python",
   "name": "python",
   "nbconvert_exporter": "python",
   "pygments_lexer": "ipython3",
   "version": "3.13.1"
  }
 },
 "nbformat": 4,
 "nbformat_minor": 5
}
